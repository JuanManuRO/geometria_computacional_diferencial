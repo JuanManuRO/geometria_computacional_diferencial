{
 "cells": [
  {
   "cell_type": "code",
   "execution_count": 1,
   "id": "cae527a5",
   "metadata": {},
   "outputs": [],
   "source": [
    "import sympy as sp\n",
    "from sympy import lambdify\n",
    "import numpy as np\n",
    "import matplotlib.pyplot as plt"
   ]
  },
  {
   "cell_type": "code",
   "execution_count": 10,
   "id": "7f4329bf",
   "metadata": {},
   "outputs": [],
   "source": [
    "t = sp.symbols('t')\n",
    "s = sp.symbols('s')\n",
    "R = sp.symbols('R', positive = True, real = True)\n",
    "x, y, z, α, dα, ddα, T, κ, I = sp.symbols('x, y, z, α, dα, ddα, T, κ, I', cls = sp.Function)\n",
    "dα_norma = sp.symbols('dα_norma', cls = sp.Function)\n"
   ]
  },
  {
   "cell_type": "code",
   "execution_count": 11,
   "id": "0c8f959c",
   "metadata": {},
   "outputs": [],
   "source": [
    "def norma(x):\n",
    "    return sp.sqrt(np.dot(x,x)).simplify()"
   ]
  },
  {
   "cell_type": "code",
   "execution_count": 23,
   "id": "a3daa747",
   "metadata": {},
   "outputs": [
    {
     "name": "stdout",
     "output_type": "stream",
     "text": [
      "Parametrizado a longitud de arco: False\n",
      "1/R\n",
      "R\n",
      "Indice de rotacion: 1\n"
     ]
    }
   ],
   "source": [
    "x = R*sp.cos(t)\n",
    "y = R*sp.sin(t)\n",
    "z = 0\n",
    "α = (x, y, z)\n",
    "\n",
    "dα = (sp.diff(x,t), sp.diff(y,t), sp.diff(z,t))\n",
    "dα_norma = norma(dα)\n",
    "print(f'Parametrizado a longitud de arco: {dα_norma == 1}')\n",
    "\n",
    "\n",
    "ddα = (sp.diff(x,t,2), sp.diff(y,t,2), sp.diff(z,t,2))\n",
    "N = (ddα[0]/norma(ddα), ddα[1]/norma(ddα), ddα[2]/norma(ddα))\n",
    "\n",
    "κ = norma(np.cross(dα,ddα))/dα_norma**3\n",
    "print(κ.simplify())\n",
    "print(dα_norma)\n",
    "\n",
    "I = 1/(2*sp.pi)*sp.integrate(κ*dα_norma, (t, 0, 2*sp.pi))\n",
    "print(f'Indice de rotacion: {I}')"
   ]
  },
  {
   "cell_type": "code",
   "execution_count": 25,
   "id": "109db2d0",
   "metadata": {},
   "outputs": [
    {
     "name": "stdout",
     "output_type": "stream",
     "text": [
      "Parametrizado a longitud de arco: True\n",
      "1/R\n",
      "1\n",
      "Indice de rotacion: 1\n"
     ]
    }
   ],
   "source": [
    "x = R*sp.cos(s/R)\n",
    "y = R*sp.sin(s/R)\n",
    "z = 0\n",
    "α = (x, y, z)\n",
    "\n",
    "dα = (sp.diff(x,s), sp.diff(y,s), sp.diff(z,s))\n",
    "dα_norma = norma(dα)\n",
    "print(f'Parametrizado a longitud de arco: {dα_norma == 1}')\n",
    "\n",
    "\n",
    "ddα = (sp.diff(x,s,2), sp.diff(y,s,2), sp.diff(z,s,2))\n",
    "N = (ddα[0]/norma(ddα), ddα[1]/norma(ddα), ddα[2]/norma(ddα))\n",
    "\n",
    "κ = norma(np.cross(dα,ddα))/dα_norma**3\n",
    "print(κ.simplify())\n",
    "print(dα_norma)\n",
    "\n",
    "I = 1/(2*sp.pi)*sp.integrate(κ, (s, 0, 2*R*sp.pi))\n",
    "print(f'Indice de rotacion: {I}')"
   ]
  },
  {
   "cell_type": "code",
   "execution_count": 27,
   "id": "ded95893",
   "metadata": {},
   "outputs": [
    {
     "name": "stdout",
     "output_type": "stream",
     "text": [
      "Parametrizado a longitud de arco: False\n",
      "6/(9 - 5*sin(t)**2)**(3/2)\n",
      "sqrt(9 - 5*sin(t)**2)\n",
      "Indice de rotacion: 1.00000000000000\n"
     ]
    }
   ],
   "source": [
    "x = 2*sp.cos(t)\n",
    "y = 3*sp.sin(t)\n",
    "z = 0\n",
    "α = (x, y, z)\n",
    "\n",
    "dα = (sp.diff(x,t), sp.diff(y,t), sp.diff(z,t))\n",
    "dα_norma = norma(dα)\n",
    "print(f'Parametrizado a longitud de arco: {dα_norma == 1}')\n",
    "\n",
    "\n",
    "ddα = (sp.diff(x,t,2), sp.diff(y,t,2), sp.diff(z,t,2))\n",
    "N = (ddα[0]/norma(ddα), ddα[1]/norma(ddα), ddα[2]/norma(ddα))\n",
    "\n",
    "κ = norma(np.cross(dα,ddα))/dα_norma**3\n",
    "print(κ.simplify())\n",
    "print(dα_norma)\n",
    "\n",
    "I = 1/(2*sp.pi)*sp.integrate(κ*dα_norma, (t, 0, 2*sp.pi))\n",
    "print(f'Indice de rotacion: {I.evalf()}')"
   ]
  }
 ],
 "metadata": {
  "kernelspec": {
   "display_name": "Python 3 (ipykernel)",
   "language": "python",
   "name": "python3"
  },
  "language_info": {
   "codemirror_mode": {
    "name": "ipython",
    "version": 3
   },
   "file_extension": ".py",
   "mimetype": "text/x-python",
   "name": "python",
   "nbconvert_exporter": "python",
   "pygments_lexer": "ipython3",
   "version": "3.11.0"
  }
 },
 "nbformat": 4,
 "nbformat_minor": 5
}
