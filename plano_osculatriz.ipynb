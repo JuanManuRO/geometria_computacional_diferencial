{
 "cells": [
  {
   "cell_type": "code",
   "execution_count": 1,
   "id": "61d68887",
   "metadata": {},
   "outputs": [],
   "source": [
    "import sympy as sp\n",
    "from sympy import lambdify\n",
    "import numpy as np\n",
    "import matplotlib.pyplot as plt\n",
    "from sympy import Matrix"
   ]
  },
  {
   "cell_type": "code",
   "execution_count": 2,
   "id": "fe0148b5",
   "metadata": {},
   "outputs": [],
   "source": [
    "t = sp.symbols('t')\n",
    "R = sp.symbols('R', positive = True, real = True)\n",
    "x, y, z, α, dα, ddα, T, κ = sp.symbols('x, y, z, α, dα, ddα, T, κ', cls = sp.Function)\n",
    "dα_norma = sp.symbols('dα_norma', cls = sp.Function)"
   ]
  },
  {
   "cell_type": "code",
   "execution_count": 3,
   "id": "372a87ec",
   "metadata": {},
   "outputs": [],
   "source": [
    "def norma(x):\n",
    "    return sp.sqrt(np.dot(x,x)).simplify()"
   ]
  },
  {
   "cell_type": "code",
   "execution_count": 4,
   "id": "f44ae979",
   "metadata": {},
   "outputs": [
    {
     "data": {
      "text/plain": [
       "(R*cos(t), R*sin(t), 0)"
      ]
     },
     "execution_count": 4,
     "metadata": {},
     "output_type": "execute_result"
    }
   ],
   "source": [
    "x = R*sp.cos(t)\n",
    "y = R*sp.sin(t)\n",
    "z = 0\n",
    "α = (x, y, z)\n",
    "α"
   ]
  },
  {
   "cell_type": "code",
   "execution_count": 5,
   "id": "54a3efd0",
   "metadata": {},
   "outputs": [
    {
     "data": {
      "image/png": "[encoded data removed]",
      "text/plain": [
       "<Figure size 432x288 with 1 Axes>"
      ]
     },
     "metadata": {
      "needs_background": "light"
     },
     "output_type": "display_data"
    }
   ],
   "source": [
    "w = np.linspace(0, 2*np.pi)\n",
    "X = lambdify(t, x.subs(R,3))(w)\n",
    "plt.plot(w,X)\n",
    "plt.show()"
   ]
  },
  {
   "cell_type": "code",
   "execution_count": 6,
   "id": "62f9cd08",
   "metadata": {},
   "outputs": [
    {
     "data": {
      "image/png": "[encoded data removed]",
      "text/plain": [
       "<Figure size 432x288 with 1 Axes>"
      ]
     },
     "metadata": {
      "needs_background": "light"
     },
     "output_type": "display_data"
    }
   ],
   "source": [
    "w = np.linspace(0,2*np.pi)\n",
    "X = lambdify(t, x.subs(R,3))(w)\n",
    "Y = lambdify(t, y.subs(R,3))(w)\n",
    "plt.plot(X,Y)\n",
    "plt.show()"
   ]
  },
  {
   "cell_type": "markdown",
   "id": "540e9245",
   "metadata": {},
   "source": [
    "Vector tangente $\\alpha$'(t)"
   ]
  },
  {
   "cell_type": "code",
   "execution_count": 7,
   "id": "0cc47914",
   "metadata": {},
   "outputs": [
    {
     "data": {
      "text/plain": [
       "(-R*sin(t), R*cos(t), 0)"
      ]
     },
     "execution_count": 7,
     "metadata": {},
     "output_type": "execute_result"
    }
   ],
   "source": [
    "dα = (sp.diff(x,t), sp.diff(y,t), sp.diff(z,t))\n",
    "dα"
   ]
  },
  {
   "cell_type": "code",
   "execution_count": 8,
   "id": "cee9c2a7",
   "metadata": {},
   "outputs": [
    {
     "data": {
      "text/latex": [
       "$\\displaystyle R$"
      ],
      "text/plain": [
       "R"
      ]
     },
     "execution_count": 8,
     "metadata": {},
     "output_type": "execute_result"
    }
   ],
   "source": [
    "dα_norma = norma(dα)\n",
    "dα_norma"
   ]
  },
  {
   "cell_type": "code",
   "execution_count": 9,
   "id": "885f9abe",
   "metadata": {},
   "outputs": [
    {
     "data": {
      "text/latex": [
       "$\\displaystyle 1$"
      ],
      "text/plain": [
       "1"
      ]
     },
     "execution_count": 9,
     "metadata": {},
     "output_type": "execute_result"
    }
   ],
   "source": [
    "dα_norma.subs(R,1)"
   ]
  },
  {
   "cell_type": "markdown",
   "id": "91ff593f",
   "metadata": {},
   "source": [
    "Vector normal"
   ]
  },
  {
   "cell_type": "code",
   "execution_count": 10,
   "id": "99f70658",
   "metadata": {},
   "outputs": [
    {
     "data": {
      "text/plain": [
       "(-R*cos(t), -R*sin(t), 0)"
      ]
     },
     "execution_count": 10,
     "metadata": {},
     "output_type": "execute_result"
    }
   ],
   "source": [
    "ddα = (sp.diff(x,t,2), sp.diff(y,t,2), sp.diff(z,t,2))\n",
    "ddα "
   ]
  },
  {
   "cell_type": "code",
   "execution_count": 11,
   "id": "4419f4f4",
   "metadata": {},
   "outputs": [
    {
     "data": {
      "text/latex": [
       "$\\displaystyle \\frac{1}{R}$"
      ],
      "text/plain": [
       "1/R"
      ]
     },
     "execution_count": 11,
     "metadata": {},
     "output_type": "execute_result"
    }
   ],
   "source": [
    "#κ = norma(ddα)\n",
    "#print(κ)\n",
    "κ = norma(np.cross(dα,ddα))/dα_norma**3\n",
    "κ"
   ]
  },
  {
   "cell_type": "code",
   "execution_count": null,
   "id": "45a25182",
   "metadata": {},
   "outputs": [],
   "source": []
  },
  {
   "cell_type": "code",
   "execution_count": null,
   "id": "994bfe5a",
   "metadata": {},
   "outputs": [],
   "source": []
  },
  {
   "cell_type": "code",
   "execution_count": 12,
   "id": "9f92bdc4",
   "metadata": {},
   "outputs": [],
   "source": [
    "u = sp.symbols('u')\n",
    "S = sp.integrate(sp.sin(u**2),(u,0,t))\n",
    "C = sp.integrate(sp.cos(u**2),(u,0,t))"
   ]
  },
  {
   "cell_type": "code",
   "execution_count": 13,
   "id": "8f68813c",
   "metadata": {},
   "outputs": [
    {
     "data": {
      "text/latex": [
       "$\\displaystyle 2 \\sqrt{t^{2}}$"
      ],
      "text/plain": [
       "2*sqrt(t**2)"
      ]
     },
     "execution_count": 13,
     "metadata": {},
     "output_type": "execute_result"
    }
   ],
   "source": [
    "α = (S, C)\n",
    "dα = (sp.diff(S,t), sp.diff(C,t))\n",
    "dα_norma = norma(dα)\n",
    "ddα = (sp.diff(S,t,2), sp.diff(C,t,2))\n",
    "κ = norma(np.cross(dα,ddα))/dα_norma**3\n",
    "κ.simplify()"
   ]
  },
  {
   "cell_type": "code",
   "execution_count": 14,
   "id": "9297cf0f",
   "metadata": {
    "scrolled": true
   },
   "outputs": [
    {
     "data": {
      "image/png": "[encoded data removed]",
      "text/plain": [
       "<Figure size 432x288 with 1 Axes>"
      ]
     },
     "metadata": {
      "needs_background": "light"
     },
     "output_type": "display_data"
    }
   ],
   "source": [
    "w = np.linspace(-1, 1,1000)\n",
    "X = lambdify(t, κ)(w)\n",
    "plt.plot(w,X)\n",
    "plt.show()"
   ]
  },
  {
   "cell_type": "code",
   "execution_count": null,
   "id": "a0649f8f",
   "metadata": {},
   "outputs": [],
   "source": []
  },
  {
   "cell_type": "code",
   "execution_count": null,
   "id": "a2414a7e",
   "metadata": {},
   "outputs": [],
   "source": []
  },
  {
   "cell_type": "code",
   "execution_count": 15,
   "id": "9d499f2b",
   "metadata": {},
   "outputs": [
    {
     "name": "stdout",
     "output_type": "stream",
     "text": [
      "a/(a**2 + b**2)\n"
     ]
    },
    {
     "data": {
      "text/latex": [
       "$\\displaystyle - \\frac{a b}{c^{4}}$"
      ],
      "text/plain": [
       "-a*b/c**4"
      ]
     },
     "execution_count": 15,
     "metadata": {},
     "output_type": "execute_result"
    }
   ],
   "source": [
    "s = sp.symbols('s')\n",
    "a,b,c = sp.symbols('a,b,c', reals = True, positive = True)\n",
    "\n",
    "\n",
    "x = a*sp.cos(s/c)\n",
    "y = a*sp.sin(s/c)\n",
    "z = b*s/c\n",
    "\n",
    "α = (x, y, z)\n",
    "\n",
    "dα = (sp.diff(x,s), sp.diff(y,s), sp.diff(z,s))\n",
    "dα_norma = norma(dα).subs(c**2,a**2+b**2)\n",
    "\n",
    "ddα = (sp.diff(x,s,2), sp.diff(y,s,2), sp.diff(z,s,2))\n",
    "N = (ddα[0]/norma(ddα), ddα[1]/norma(ddα), ddα[2]/norma(ddα))\n",
    "\n",
    "κ = norma(np.cross(dα,ddα))/dα_norma**3\n",
    "print(κ.simplify().subs(c**2,a**2+b**2))\n",
    "\n",
    "B = np.cross(dα,ddα)\n",
    "\n",
    "dB = (sp.diff(B[0],s), sp.diff(B[1],s), sp.diff(B[2],s))\n",
    "np.dot(dB,N).simplify()"
   ]
  },
  {
   "cell_type": "code",
   "execution_count": 16,
   "id": "3f52a929",
   "metadata": {},
   "outputs": [],
   "source": [
    "def normasp(x):\n",
    "    return sp.sqrt(x.dot(x)).simplify()"
   ]
  },
  {
   "cell_type": "code",
   "execution_count": 17,
   "id": "48625f1a",
   "metadata": {},
   "outputs": [
    {
     "data": {
      "text/latex": [
       "$\\displaystyle \\left[\\begin{matrix}a \\cos{\\left(\\frac{s}{c} \\right)}\\\\a \\sin{\\left(\\frac{s}{c} \\right)}\\\\\\frac{b s}{c}\\end{matrix}\\right]$"
      ],
      "text/plain": [
       "Matrix([\n",
       "[a*cos(s/c)],\n",
       "[a*sin(s/c)],\n",
       "[     b*s/c]])"
      ]
     },
     "execution_count": 17,
     "metadata": {},
     "output_type": "execute_result"
    }
   ],
   "source": [
    "x = a*sp.cos(s/c)\n",
    "y = a*sp.sin(s/c)\n",
    "z = b*s/c\n",
    "α = Matrix([x, y, z])\n",
    "α"
   ]
  },
  {
   "cell_type": "code",
   "execution_count": 18,
   "id": "5392a518",
   "metadata": {},
   "outputs": [
    {
     "name": "stdout",
     "output_type": "stream",
     "text": [
      "a/(a**2 + b**2)\n"
     ]
    },
    {
     "data": {
      "text/latex": [
       "$\\displaystyle - \\frac{a b}{c^{4}}$"
      ],
      "text/plain": [
       "-a*b/c**4"
      ]
     },
     "execution_count": 18,
     "metadata": {},
     "output_type": "execute_result"
    }
   ],
   "source": [
    "dα = α.diff(s)\n",
    "dα_norma = normasp(dα)\n",
    "\n",
    "ddα = dα.diff(s)\n",
    "N = ddα/normasp(ddα)\n",
    "#N = (ddα[0]/norma(ddα), ddα[1]/norma(ddα), ddα[2]/norma(ddα))\n",
    "\n",
    "κ = normasp(dα.cross(ddα))/dα_norma**3\n",
    "print(κ.simplify().subs(c**2,a**2+b**2))\n",
    "\n",
    "B = dα.cross(ddα)\n",
    "\n",
    "dB = B.diff(s)\n",
    "dB.dot(N).simplify()"
   ]
  },
  {
   "cell_type": "code",
   "execution_count": null,
   "id": "930ad780",
   "metadata": {},
   "outputs": [],
   "source": []
  },
  {
   "cell_type": "code",
   "execution_count": null,
   "id": "ecdbdade",
   "metadata": {},
   "outputs": [],
   "source": []
  },
  {
   "cell_type": "code",
   "execution_count": 19,
   "id": "de898567",
   "metadata": {},
   "outputs": [],
   "source": [
    "θ, ϕ = sp.symbols(\"θ, ϕ\")\n",
    "a, r = sp.symbols('a,r', reals = True, positive = True)"
   ]
  },
  {
   "cell_type": "code",
   "execution_count": 21,
   "id": "4dd634e8",
   "metadata": {},
   "outputs": [
    {
     "data": {
      "text/latex": [
       "$\\displaystyle \\left[\\begin{matrix}\\left(a + r \\cos{\\left(θ \\right)}\\right) \\cos{\\left(ϕ \\right)}\\\\\\left(a + r \\cos{\\left(θ \\right)}\\right) \\sin{\\left(ϕ \\right)}\\\\r \\sin{\\left(θ \\right)}\\end{matrix}\\right]$"
      ],
      "text/plain": [
       "Matrix([\n",
       "[(a + r*cos(θ))*cos(ϕ)],\n",
       "[(a + r*cos(θ))*sin(ϕ)],\n",
       "[             r*sin(θ)]])"
      ]
     },
     "execution_count": 21,
     "metadata": {},
     "output_type": "execute_result"
    }
   ],
   "source": [
    "x = (a+r*sp.cos(θ))*sp.cos(ϕ)\n",
    "y = (a+r*sp.cos(θ))*sp.sin(ϕ)\n",
    "z = r*sp.sin(θ)\n",
    "X = Matrix([x,y,z])\n",
    "X"
   ]
  },
  {
   "cell_type": "code",
   "execution_count": 24,
   "id": "1a33367c",
   "metadata": {},
   "outputs": [
    {
     "data": {
      "text/latex": [
       "$\\displaystyle \\left[\\begin{matrix}- r \\sin{\\left(θ \\right)} \\cos{\\left(ϕ \\right)}\\\\- r \\sin{\\left(θ \\right)} \\sin{\\left(ϕ \\right)}\\\\r \\cos{\\left(θ \\right)}\\end{matrix}\\right]$"
      ],
      "text/plain": [
       "Matrix([\n",
       "[-r*sin(θ)*cos(ϕ)],\n",
       "[-r*sin(θ)*sin(ϕ)],\n",
       "[        r*cos(θ)]])"
      ]
     },
     "execution_count": 24,
     "metadata": {},
     "output_type": "execute_result"
    }
   ],
   "source": [
    "X_θ = X.diff(θ)\n",
    "X_θ"
   ]
  },
  {
   "cell_type": "code",
   "execution_count": 25,
   "id": "da97fc7d",
   "metadata": {},
   "outputs": [
    {
     "data": {
      "text/latex": [
       "$\\displaystyle \\left[\\begin{matrix}- \\left(a + r \\cos{\\left(θ \\right)}\\right) \\sin{\\left(ϕ \\right)}\\\\\\left(a + r \\cos{\\left(θ \\right)}\\right) \\cos{\\left(ϕ \\right)}\\\\0\\end{matrix}\\right]$"
      ],
      "text/plain": [
       "Matrix([\n",
       "[-(a + r*cos(θ))*sin(ϕ)],\n",
       "[ (a + r*cos(θ))*cos(ϕ)],\n",
       "[                     0]])"
      ]
     },
     "execution_count": 25,
     "metadata": {},
     "output_type": "execute_result"
    }
   ],
   "source": [
    "X_ϕ = X.diff(ϕ)\n",
    "X_ϕ"
   ]
  },
  {
   "cell_type": "code",
   "execution_count": 27,
   "id": "ff5a4a72",
   "metadata": {},
   "outputs": [
    {
     "data": {
      "text/latex": [
       "$\\displaystyle \\left[\\begin{matrix}- r \\left(a + r \\cos{\\left(θ \\right)}\\right) \\cos{\\left(θ \\right)} \\cos{\\left(ϕ \\right)}\\\\- r \\left(a + r \\cos{\\left(θ \\right)}\\right) \\sin{\\left(ϕ \\right)} \\cos{\\left(θ \\right)}\\\\- r \\left(a + r \\cos{\\left(θ \\right)}\\right) \\sin{\\left(θ \\right)} \\sin^{2}{\\left(ϕ \\right)} - r \\left(a + r \\cos{\\left(θ \\right)}\\right) \\sin{\\left(θ \\right)} \\cos^{2}{\\left(ϕ \\right)}\\end{matrix}\\right]$"
      ],
      "text/plain": [
       "Matrix([\n",
       "[                                       -r*(a + r*cos(θ))*cos(θ)*cos(ϕ)],\n",
       "[                                       -r*(a + r*cos(θ))*sin(ϕ)*cos(θ)],\n",
       "[-r*(a + r*cos(θ))*sin(θ)*sin(ϕ)**2 - r*(a + r*cos(θ))*sin(θ)*cos(ϕ)**2]])"
      ]
     },
     "execution_count": 27,
     "metadata": {},
     "output_type": "execute_result"
    }
   ],
   "source": [
    "X_θ.cross(X_ϕ)"
   ]
  },
  {
   "cell_type": "code",
   "execution_count": 26,
   "id": "67738619",
   "metadata": {},
   "outputs": [
    {
     "data": {
      "text/latex": [
       "$\\displaystyle r^{2} \\left(a + r \\cos{\\left(θ \\right)}\\right)^{2}$"
      ],
      "text/plain": [
       "r**2*(a + r*cos(θ))**2"
      ]
     },
     "execution_count": 26,
     "metadata": {},
     "output_type": "execute_result"
    }
   ],
   "source": [
    "((X_θ.cross(X_ϕ)).dot(X_θ.cross(X_ϕ))).simplify()"
   ]
  },
  {
   "cell_type": "code",
   "execution_count": 28,
   "id": "1ebe053c",
   "metadata": {},
   "outputs": [],
   "source": [
    "D = Matrix([θ, ϕ])"
   ]
  },
  {
   "cell_type": "code",
   "execution_count": 29,
   "id": "036eac41",
   "metadata": {},
   "outputs": [
    {
     "data": {
      "text/latex": [
       "$\\displaystyle \\left[\\begin{matrix}- r \\sin{\\left(θ \\right)} \\cos{\\left(ϕ \\right)} & - \\left(a + r \\cos{\\left(θ \\right)}\\right) \\sin{\\left(ϕ \\right)}\\\\- r \\sin{\\left(θ \\right)} \\sin{\\left(ϕ \\right)} & \\left(a + r \\cos{\\left(θ \\right)}\\right) \\cos{\\left(ϕ \\right)}\\\\r \\cos{\\left(θ \\right)} & 0\\end{matrix}\\right]$"
      ],
      "text/plain": [
       "Matrix([\n",
       "[-r*sin(θ)*cos(ϕ), -(a + r*cos(θ))*sin(ϕ)],\n",
       "[-r*sin(θ)*sin(ϕ),  (a + r*cos(θ))*cos(ϕ)],\n",
       "[        r*cos(θ),                      0]])"
      ]
     },
     "execution_count": 29,
     "metadata": {},
     "output_type": "execute_result"
    }
   ],
   "source": [
    "X.jacobian(D)"
   ]
  },
  {
   "cell_type": "code",
   "execution_count": null,
   "id": "425bab9b",
   "metadata": {},
   "outputs": [],
   "source": []
  }
 ],
 "metadata": {
  "kernelspec": {
   "display_name": "Python 3 (ipykernel)",
   "language": "python",
   "name": "python3"
  },
  "language_info": {
   "codemirror_mode": {
    "name": "ipython",
    "version": 3
   },
   "file_extension": ".py",
   "mimetype": "text/x-python",
   "name": "python",
   "nbconvert_exporter": "python",
   "pygments_lexer": "ipython3",
   "version": "3.11.0"
  }
 },
 "nbformat": 4,
 "nbformat_minor": 5
}
