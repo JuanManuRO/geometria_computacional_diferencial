{
 "cells": [
  {
   "cell_type": "code",
   "execution_count": 29,
   "id": "768c58c9",
   "metadata": {},
   "outputs": [],
   "source": [
    "import matplotlib.pyplot as plt\n",
    "import numpy as np"
   ]
  },
  {
   "cell_type": "code",
   "execution_count": 23,
   "id": "1a5248f6",
   "metadata": {},
   "outputs": [],
   "source": [
    "class point:\n",
    "    def __init__(self,x,y):\n",
    "        self.x = x\n",
    "        self.y = y"
   ]
  },
  {
   "cell_type": "code",
   "execution_count": 24,
   "id": "30715393",
   "metadata": {
    "scrolled": true
   },
   "outputs": [],
   "source": [
    "class rotated:\n",
    "    def __init__(self, p0,p1,p2):\n",
    "        if type(p0) == tuple:\n",
    "            self.p0 = point(p0[0],p0[1])\n",
    "        else:\n",
    "            self.p0 = p0\n",
    "            \n",
    "        if type(p1) == tuple:\n",
    "            self.p1 = point(p1[0],p1[1])\n",
    "        else:\n",
    "            self.p1 = p1\n",
    "            \n",
    "        if type(p2) == tuple:\n",
    "            self.p2 = point(p2[0],p2[1])\n",
    "        else:\n",
    "            self.p2 = p2\n",
    "    \n",
    "    def cross_prod(self):\n",
    "        return (self.p1.x-self.p0.x)*(self.p2.y-self.p0.y)-(self.p1.y-self.p0.y)*(self.p2.x-self.p0.x)\n",
    "        \n",
    "    def rot(self, verbose = True):\n",
    "        rot = self.cross_prod()\n",
    "        if verbose:\n",
    "            if rot > 0:\n",
    "                print(f'{p1} rotado en sentido horario respecto a {p2}, con {p0} como origen')\n",
    "            elif rot < 0:\n",
    "                print(f'{p1} rotado en sentido anti-horario respecto a {p2}, con {p0} como origen')\n",
    "            else:\n",
    "                print(f'{p1} colineal a {p2}, con {p0} como origen')\n",
    "        return rot\n",
    "    \n",
    "    def plot(self):\n",
    "        plt.figure('Rotation')\n",
    "        plt.arrow(self.p0.x,self.p0.y, self.p1.x-self.p0.x, self.p1.y-self.p0.y, head_width=0.05, head_length=0.05, label = p1)\n",
    "        plt.arrow(self.p0.x,self.p0.y, self.p2.x-self.p0.x, self.p2.y-self.p0.y, head_width=0.05, head_length=0.05, color = 'red', label = p2)\n",
    "        plt.legend()\n",
    "        \n",
    "class turned:\n",
    "    def __init__(self, p0,p1,p2):\n",
    "        if type(p0) == tuple:\n",
    "            self.p0 = point(p0[0],p0[1])\n",
    "        else:\n",
    "            self.p0 = p0\n",
    "            \n",
    "        if type(p1) == tuple:\n",
    "            self.p1 = point(p1[0],p1[1])\n",
    "        else:\n",
    "            self.p1 = p1\n",
    "            \n",
    "        if type(p2) == tuple:\n",
    "            self.p2 = point(p2[0],p2[1])\n",
    "        else:\n",
    "            self.p2 = p2\n",
    "    \n",
    "    def cross_prod(self):\n",
    "        return (self.p1.x-self.p0.x)*(self.p2.y-self.p0.y)-(self.p1.y-self.p0.y)*(self.p2.x-self.p0.x)\n",
    "        \n",
    "    def turn(self, verbose = True):\n",
    "        rot = self.cross_prod()\n",
    "        if verbose:\n",
    "            if rot > 0:\n",
    "                print(f'En {p1} se hace un giro en sentido anti-horario')\n",
    "            elif rot < 0:\n",
    "                print(f'En {p1} se hace un giro en sentido horario')\n",
    "            else:\n",
    "                print(f'En {p1} no se gira')\n",
    "        return rot\n",
    "    \n",
    "    def plot(self):\n",
    "        plt.figure('Turn')\n",
    "        plt.arrow(self.p0.x,self.p0.y, self.p1.x-self.p0.x, self.p1.y-self.p0.y, head_width=0.05, head_length=0.05, label = p1)\n",
    "        plt.arrow(self.p1.x,self.p1.y, self.p2.x-self.p1.x, self.p2.y-self.p1.y, head_width=0.05, head_length=0.05, color = 'red', label = p2)\n",
    "        plt.legend()"
   ]
  },
  {
   "cell_type": "code",
   "execution_count": 58,
   "id": "53488e65",
   "metadata": {},
   "outputs": [],
   "source": [
    "class inter:\n",
    "    def __init__(self, p0, p1, p2, p3):\n",
    "        self.p0 = point(p0[0],p0[1])\n",
    "        self.p1 = point(p1[0],p1[1])\n",
    "        self.p2 = point(p2[0],p2[1])\n",
    "        self.p3 = point(p3[0],p3[1])\n",
    "        \n",
    "    def exist(self):\n",
    "        d0 = rotated(p2,p0,p3).rot(verbose = False)\n",
    "        d1 = rotated(p2,p1,p3).rot(verbose = False)\n",
    "        d2 = rotated(p0,p2,p1).rot(verbose = False)\n",
    "        d3 = rotated(p0,p3,p1).rot(verbose = False)\n",
    "        return (d0*d1 == -1) and (d2*d3 == -1)\n",
    "    \n",
    "    def find(self):\n",
    "        [alpha, beta] = np.matmul(\\\n",
    "        np.linalg.inv(\\\n",
    "        np.matrix([\\\n",
    "        [self.p0.x-self.p1.x, self.p3.x-self.p2.x],[self.p0.y-self.p1.y, self.p3.y-self.p2.y]]))\\\n",
    "        ,np.matrix([[self.p3.x-self.p1.x], [self.p3.y-self.p1.y]]))\n",
    "        return float(alpha),float(beta)"
   ]
  },
  {
   "cell_type": "code",
   "execution_count": 53,
   "id": "3d868811",
   "metadata": {
    "scrolled": false
   },
   "outputs": [
    {
     "name": "stdout",
     "output_type": "stream",
     "text": [
      "(1, 0) rotado en sentido horario respecto a (0, 1), con (0, 0) como origen\n",
      "1\n"
     ]
    },
    {
     "data": {
      "image/png": "[encoded data removed]",
      "text/plain": [
       "<Figure size 432x288 with 1 Axes>"
      ]
     },
     "metadata": {
      "needs_background": "light"
     },
     "output_type": "display_data"
    }
   ],
   "source": [
    "p0 = (0,0)\n",
    "p1 = (1,0)\n",
    "p2 = (0,1)\n",
    "\n",
    "ejer = rotated(p0,p1,p2)\n",
    "print(ejer.rot())\n",
    "ejer.plot()"
   ]
  },
  {
   "cell_type": "code",
   "execution_count": 54,
   "id": "7ac1f947",
   "metadata": {
    "scrolled": true
   },
   "outputs": [
    {
     "name": "stdout",
     "output_type": "stream",
     "text": [
      "En (1, 0) se hace un giro en sentido anti-horario\n",
      "1\n"
     ]
    },
    {
     "data": {
      "image/png": "[encoded data removed]",
      "text/plain": [
       "<Figure size 432x288 with 1 Axes>"
      ]
     },
     "metadata": {
      "needs_background": "light"
     },
     "output_type": "display_data"
    }
   ],
   "source": [
    "ejer = turned(p0,p1,p2)\n",
    "print(ejer.turn())\n",
    "ejer.plot()"
   ]
  },
  {
   "cell_type": "code",
   "execution_count": 59,
   "id": "f3b68d00",
   "metadata": {
    "scrolled": false
   },
   "outputs": [
    {
     "data": {
      "text/plain": [
       "(0.5, 0.5)"
      ]
     },
     "execution_count": 59,
     "metadata": {},
     "output_type": "execute_result"
    }
   ],
   "source": [
    "p0 = (0,0)\n",
    "p1 = (1,1)\n",
    "p2 = (1,0)\n",
    "p3 = (0,1)\n",
    "\n",
    "ejer = inter(p0,p1,p2,p3)\n",
    "ejer.exist()\n",
    "ejer.find()"
   ]
  },
  {
   "cell_type": "code",
   "execution_count": null,
   "id": "c5967925",
   "metadata": {},
   "outputs": [],
   "source": []
  }
 ],
 "metadata": {
  "kernelspec": {
   "display_name": "Python 3 (ipykernel)",
   "language": "python",
   "name": "python3"
  },
  "language_info": {
   "codemirror_mode": {
    "name": "ipython",
    "version": 3
   },
   "file_extension": ".py",
   "mimetype": "text/x-python",
   "name": "python",
   "nbconvert_exporter": "python",
   "pygments_lexer": "ipython3",
   "version": "3.9.12"
  }
 },
 "nbformat": 4,
 "nbformat_minor": 5
}
