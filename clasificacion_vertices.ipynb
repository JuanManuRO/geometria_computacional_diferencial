{
 "cells": [
  {
   "cell_type": "code",
   "execution_count": 43,
   "id": "535b0a7d",
   "metadata": {},
   "outputs": [],
   "source": [
    "\n",
    "import numpy as np\n",
    "import pandas as pd\n",
    "import matplotlib.pyplot as plt"
   ]
  },
  {
   "cell_type": "code",
   "execution_count": 54,
   "id": "f085ca93",
   "metadata": {},
   "outputs": [],
   "source": [
    "class vertex:\n",
    "    def __init__(self,x,y, name = None, typ = None):\n",
    "        self.x = x\n",
    "        self.y = y\n",
    "        self.name = name\n",
    "        self.typ = typ\n",
    "    \n",
    "    def __repr__(self):\n",
    "        return f'({self.x},{self.y})'\n",
    "    \n",
    "    def __str__(self):\n",
    "        return self.name\n",
    "    \n",
    "    def __eq__(self, other):\n",
    "        return self.x == other.x and self.y == other.y\n",
    "    \n",
    "    def __lt__(self, other):\n",
    "        return self.y > other.y or (self.y == other.y and self.x < other.x)\n",
    "    \n",
    "    def cross_prod(self, orig, obj):\n",
    "        return (obj.x - orig.x)*(self.y-orig.y)-(obj.y-orig.y)*(self.x-orig.x)"
   ]
  },
  {
   "cell_type": "code",
   "execution_count": 55,
   "id": "a6a9efaa",
   "metadata": {},
   "outputs": [],
   "source": [
    "class edge:\n",
    "    def __init__(self, v1 ,v2, next_a = None, prev_a = None, name = None):\n",
    "        self.ini = v1\n",
    "        self.fin = v2\n",
    "        self.next_a = next_a\n",
    "        self.prev_a = prev_a\n",
    "        self.name = name\n",
    "    \n",
    "    def __repr__(self):\n",
    "        return f'{self.ini} ---> {self.fin}'\n",
    "                 \n",
    "    def __str__(self):\n",
    "        return self.name"
   ]
  },
  {
   "cell_type": "code",
   "execution_count": 98,
   "id": "cad9e659",
   "metadata": {},
   "outputs": [],
   "source": [
    "class dc_edge:\n",
    "    def __init__(self, ps):\n",
    "        self.v = [vertex(x[0], x[1]) for x in ps]\n",
    "        self.v.reverse()\n",
    "        aux = self.v.copy()\n",
    "        aux.append(aux.pop(0))\n",
    "        aux = [*zip(self.v, aux)]\n",
    "        self.edges = [edge(x[0],x[1]) for x in aux]\n",
    "        self.name()\n",
    "        self.connect()\n",
    "        self.classify()\n",
    "        \n",
    "    def name(self):\n",
    "        for i in range(len(self.v)):\n",
    "            self.v[i].name = f'V{i}'\n",
    "        for i in range(len(self.edges)):\n",
    "            self.edges[i].name = f'e{i}'\n",
    "            \n",
    "    \n",
    "    def connect(self):\n",
    "        for i in range(-1,len(self.edges)-1):\n",
    "                self.edges[i].next_a = self.edges[i+1]\n",
    "                self.edges[i].prev_a = self.edges[i-1]\n",
    "                \n",
    "    def classify(self):\n",
    "        for v in self.v:\n",
    "            for e in self.edges:\n",
    "                if e.ini == v:\n",
    "                    nex = e.fin\n",
    "                elif e.fin == v:\n",
    "                    pre = e.ini\n",
    "            if nex < v and pre < v:\n",
    "                turn = nex.cross_prod(pre, v)\n",
    "                if turn < 0:\n",
    "                    v.typ = 'Div'\n",
    "                elif turn > 0:\n",
    "                    v.typ = 'Ini'\n",
    "            elif v < nex and v < pre:\n",
    "                turn = nex.cross_prod(pre, v)\n",
    "                if turn < 0:\n",
    "                    v.typ = 'Mer'\n",
    "                elif turn > 0:\n",
    "                    v.typ = 'Fin'\n",
    "            else:\n",
    "                v.typ = 'Reg'\n",
    "    \n",
    "    def lista(self):\n",
    "        edges = []\n",
    "        origin = []\n",
    "        next_e = []\n",
    "        prev_e = []\n",
    "        \n",
    "        for i in range(len(self.edges)):\n",
    "            edges.append(self.edges[i].name)\n",
    "            origin.append(self.edges[i].ini)\n",
    "            next_e.append(self.edges[i].next_a)\n",
    "            prev_e.append(self.edges[i].prev_a)\n",
    "        return pd.DataFrame.from_dict({'Aristas': edges, 'Origen': origin, 'Next': next_e, 'Prev': prev_e})\n",
    "         \n",
    "         \n",
    "    \n",
    "    def plot_dir(self):\n",
    "        xcoord = [v.x for v in self.v]\n",
    "        ycoord = [v.y for v in self.v]\n",
    "        plt.scatter(xcoord,ycoord)\n",
    "        for v in self.v:\n",
    "            plt.annotate(v.name, (v.x,v.y))\n",
    "        for e in self.edges:\n",
    "            plt.arrow(e.ini.x, e.ini.y, e.fin.x-e.ini.x, e.fin.y-e.ini.y, head_width=0.25)\n",
    "        plt.show()\n",
    "\n",
    "    def plot_typ(self):\n",
    "        #xcoord = [v.x for v in self.v]\n",
    "        #ycoord = [v.y for v in self.v]\n",
    "        #plt.scatter(xcoord,ycoord)\n",
    "        for v in self.v:\n",
    "            if v.typ == 'Div':\n",
    "                plt.scatter(v.x,v.y, marker = '^', s = 100)\n",
    "            elif v.typ == 'Mer':\n",
    "                plt.scatter(v.x,v.y, marker = 'v', s = 100)\n",
    "            elif v.typ == 'Ini':\n",
    "                plt.scatter(v.x,v.y, marker = 's', s = 100)\n",
    "            elif v.typ == 'Fin':\n",
    "                plt.scatter(v.x,v.y, marker = '*', s = 100)\n",
    "            elif v.typ == 'Reg':\n",
    "                plt.scatter(v.x,v.y, s = 100)\n",
    "            else:\n",
    "                print('Error')\n",
    "            plt.annotate(v.name, (v.x,v.y))\n",
    "            \n",
    "        for e in self.edges:\n",
    "            plt.plot([e.ini.x, e.fin.x], [e.ini.y, e.fin.y])\n",
    "        plt.show()"
   ]
  },
  {
   "cell_type": "code",
   "execution_count": 99,
   "id": "ced6363b",
   "metadata": {},
   "outputs": [
    {
     "data": {
      "image/png": "[encoded data removed]",
      "text/plain": [
       "<Figure size 432x288 with 1 Axes>"
      ]
     },
     "metadata": {
      "needs_background": "light"
     },
     "output_type": "display_data"
    },
    {
     "data": {
      "image/png": "[encoded data removed]",
      "text/plain": [
       "<Figure size 432x288 with 1 Axes>"
      ]
     },
     "metadata": {
      "needs_background": "light"
     },
     "output_type": "display_data"
    },
    {
     "data": {
      "text/html": [
       "<div>\n",
       "<style scoped>\n",
       "    .dataframe tbody tr th:only-of-type {\n",
       "        vertical-align: middle;\n",
       "    }\n",
       "\n",
       "    .dataframe tbody tr th {\n",
       "        vertical-align: top;\n",
       "    }\n",
       "\n",
       "    .dataframe thead th {\n",
       "        text-align: right;\n",
       "    }\n",
       "</style>\n",
       "<table border=\"1\" class=\"dataframe\">\n",
       "  <thead>\n",
       "    <tr style=\"text-align: right;\">\n",
       "      <th></th>\n",
       "      <th>Aristas</th>\n",
       "      <th>Origen</th>\n",
       "      <th>Next</th>\n",
       "      <th>Prev</th>\n",
       "    </tr>\n",
       "  </thead>\n",
       "  <tbody>\n",
       "    <tr>\n",
       "      <th>0</th>\n",
       "      <td>e0</td>\n",
       "      <td>V0</td>\n",
       "      <td>e1</td>\n",
       "      <td>e3</td>\n",
       "    </tr>\n",
       "    <tr>\n",
       "      <th>1</th>\n",
       "      <td>e1</td>\n",
       "      <td>V1</td>\n",
       "      <td>e2</td>\n",
       "      <td>e0</td>\n",
       "    </tr>\n",
       "    <tr>\n",
       "      <th>2</th>\n",
       "      <td>e2</td>\n",
       "      <td>V2</td>\n",
       "      <td>e3</td>\n",
       "      <td>e1</td>\n",
       "    </tr>\n",
       "    <tr>\n",
       "      <th>3</th>\n",
       "      <td>e3</td>\n",
       "      <td>V3</td>\n",
       "      <td>e0</td>\n",
       "      <td>e2</td>\n",
       "    </tr>\n",
       "  </tbody>\n",
       "</table>\n",
       "</div>"
      ],
      "text/plain": [
       "  Aristas Origen Next Prev\n",
       "0      e0     V0   e1   e3\n",
       "1      e1     V1   e2   e0\n",
       "2      e2     V2   e3   e1\n",
       "3      e3     V3   e0   e2"
      ]
     },
     "execution_count": 99,
     "metadata": {},
     "output_type": "execute_result"
    }
   ],
   "source": [
    "P = [(1,1), (1,0), (0,0), (0,1)]\n",
    "AP = dc_edge(P)\n",
    "AP.plot_dir()\n",
    "AP.plot_typ()\n",
    "AP.lista()"
   ]
  },
  {
   "cell_type": "code",
   "execution_count": 89,
   "id": "4a91fdf5",
   "metadata": {},
   "outputs": [
    {
     "data": {
      "image/png": "[encoded data removed]",
      "text/plain": [
       "<Figure size 432x288 with 1 Axes>"
      ]
     },
     "metadata": {
      "needs_background": "light"
     },
     "output_type": "display_data"
    },
    {
     "data": {
      "image/png": "[encoded data removed]",
      "text/plain": [
       "<Figure size 432x288 with 1 Axes>"
      ]
     },
     "metadata": {
      "needs_background": "light"
     },
     "output_type": "display_data"
    },
    {
     "data": {
      "text/html": [
       "<div>\n",
       "<style scoped>\n",
       "    .dataframe tbody tr th:only-of-type {\n",
       "        vertical-align: middle;\n",
       "    }\n",
       "\n",
       "    .dataframe tbody tr th {\n",
       "        vertical-align: top;\n",
       "    }\n",
       "\n",
       "    .dataframe thead th {\n",
       "        text-align: right;\n",
       "    }\n",
       "</style>\n",
       "<table border=\"1\" class=\"dataframe\">\n",
       "  <thead>\n",
       "    <tr style=\"text-align: right;\">\n",
       "      <th></th>\n",
       "      <th>Aristas</th>\n",
       "      <th>Origen</th>\n",
       "      <th>Next</th>\n",
       "      <th>Prev</th>\n",
       "    </tr>\n",
       "  </thead>\n",
       "  <tbody>\n",
       "    <tr>\n",
       "      <th>0</th>\n",
       "      <td>e0</td>\n",
       "      <td>V0</td>\n",
       "      <td>e1</td>\n",
       "      <td>e5</td>\n",
       "    </tr>\n",
       "    <tr>\n",
       "      <th>1</th>\n",
       "      <td>e1</td>\n",
       "      <td>V1</td>\n",
       "      <td>e2</td>\n",
       "      <td>e0</td>\n",
       "    </tr>\n",
       "    <tr>\n",
       "      <th>2</th>\n",
       "      <td>e2</td>\n",
       "      <td>V2</td>\n",
       "      <td>e3</td>\n",
       "      <td>e1</td>\n",
       "    </tr>\n",
       "    <tr>\n",
       "      <th>3</th>\n",
       "      <td>e3</td>\n",
       "      <td>V3</td>\n",
       "      <td>e4</td>\n",
       "      <td>e2</td>\n",
       "    </tr>\n",
       "    <tr>\n",
       "      <th>4</th>\n",
       "      <td>e4</td>\n",
       "      <td>V4</td>\n",
       "      <td>e5</td>\n",
       "      <td>e3</td>\n",
       "    </tr>\n",
       "    <tr>\n",
       "      <th>5</th>\n",
       "      <td>e5</td>\n",
       "      <td>V5</td>\n",
       "      <td>e0</td>\n",
       "      <td>e4</td>\n",
       "    </tr>\n",
       "  </tbody>\n",
       "</table>\n",
       "</div>"
      ],
      "text/plain": [
       "  Aristas Origen Next Prev\n",
       "0      e0     V0   e1   e5\n",
       "1      e1     V1   e2   e0\n",
       "2      e2     V2   e3   e1\n",
       "3      e3     V3   e4   e2\n",
       "4      e4     V4   e5   e3\n",
       "5      e5     V5   e0   e4"
      ]
     },
     "execution_count": 89,
     "metadata": {},
     "output_type": "execute_result"
    }
   ],
   "source": [
    "P = [(5,1), (8,3), (5,-2), (2,2), (-1,-1), (1,5)]\n",
    "AP = dc_edge(P)\n",
    "AP.plot_dir()\n",
    "AP.plot_typ()\n",
    "AP.lista()"
   ]
  },
  {
   "cell_type": "code",
   "execution_count": null,
   "id": "21ce76dc",
   "metadata": {},
   "outputs": [],
   "source": []
  },
  {
   "cell_type": "code",
   "execution_count": null,
   "id": "a658976f",
   "metadata": {},
   "outputs": [],
   "source": []
  }
 ],
 "metadata": {
  "kernelspec": {
   "display_name": "Python 3 (ipykernel)",
   "language": "python",
   "name": "python3"
  },
  "language_info": {
   "codemirror_mode": {
    "name": "ipython",
    "version": 3
   },
   "file_extension": ".py",
   "mimetype": "text/x-python",
   "name": "python",
   "nbconvert_exporter": "python",
   "pygments_lexer": "ipython3",
   "version": "3.9.12"
  }
 },
 "nbformat": 4,
 "nbformat_minor": 5
}
