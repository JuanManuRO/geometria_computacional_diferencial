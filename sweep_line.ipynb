{
 "cells": [
  {
   "cell_type": "code",
   "execution_count": 4,
   "id": "8fff31dd",
   "metadata": {},
   "outputs": [],
   "source": [
    "import numpy as np\n",
    "import matplotlib.pyplot as plt\n",
    "import time"
   ]
  },
  {
   "cell_type": "code",
   "execution_count": 5,
   "id": "e126bb44",
   "metadata": {},
   "outputs": [],
   "source": [
    "class point:\n",
    "    def __init__(self,x,y):\n",
    "        self.x = x\n",
    "        self.y = y\n",
    "    \n",
    "    def __repr__(self):\n",
    "        return f'({self.x},{self.y})'\n",
    "    \n",
    "    def __lt__(self, other):\n",
    "        \n",
    "    \n",
    "class segment:\n",
    "    def __init__(self, x1, y1, x2, y2):\n",
    "        self.p1 = point(x1,y1)\n",
    "        self.p2 = point(x2,y2)\n",
    "    \n",
    "    def __repr__(self):\n",
    "        return f'{self.p1} -> {self.p2}'\n",
    "    \n",
    "    def to_array(self):\n",
    "        return [[self.p1.x,self.p1.y], [self.p2.x,self.p2.y]]\n",
    "    \n",
    "    def middle(self, y_new):\n",
    "        alpha = (y_new - self.p2.y)/(self.p1.y - self.p2.y)\n",
    "        x_new = alpha*self.p1.x+(1-alpha)*self.p2.x\n",
    "        return [x_new, y_new]\n",
    "        "
   ]
  },
  {
   "cell_type": "code",
   "execution_count": 6,
   "id": "02f62b28",
   "metadata": {},
   "outputs": [],
   "source": [
    "class Node:\n",
    "    def __init__(self, val, lc = None, rc = None):\n",
    "        self.val = val\n",
    "        self.lc = lc\n",
    "        self.rc = rc\n",
    "        \n",
    "def insert(root, new):\n",
    "    if root is None:\n",
    "        return Node(new)\n",
    "    elif less_line(new, root.val):\n",
    "        root.lc = insert(root.lc, new)\n",
    "    else:\n",
    "        root.rc = insert(root.rc, new)\n",
    "    return root\n",
    "\n",
    "def inorder(root):\n",
    "    result = [] \n",
    "    if root:\n",
    "        result.extend(inorder(root.lc))\n",
    "        result.append(root.val)\n",
    "        result.extend(inorder(root.rc))\n",
    "    return result\n",
    "\n",
    "def preorder(root):\n",
    "    result = [] \n",
    "    if root:\n",
    "        result.append((root.val))\n",
    "        result.extend(inorder(root.lc))\n",
    "        result.extend(inorder(root.rc))\n",
    "    return result\n",
    "\n",
    "def depth(root):\n",
    "    if root is None:\n",
    "        return 0\n",
    "    return max(depth(root.lc), depth(root.rc)) + 1\n",
    "\n",
    "def is_balanced(root):\n",
    "    if root is None:\n",
    "        return True\n",
    "    left = depth(root.lc)\n",
    "    right = depth(root.rc)\n",
    "    if abs(left - right) < 2 and is_balanced(root.lc) and is_balanced(root.rc):\n",
    "        return True\n",
    "    return False\n",
    "\n",
    "def BBT(x):\n",
    "    if len(x) == 0:\n",
    "        return None\n",
    "    mid = len(x) >> 1\n",
    "    newRoot = Node(x[mid])\n",
    "    newRoot.lc = BBT(x[:mid])\n",
    "    newRoot.rc = BBT(x[mid+1:])\n",
    "    return newRoot\n",
    "\n",
    "def less_line(p0, p1):\n",
    "    if p0.y > p1.y:\n",
    "        return True\n",
    "    elif p0.y == p1.y and p0.x < p1.x:\n",
    "        return True\n",
    "    else:\n",
    "        return False"
   ]
  },
  {
   "cell_type": "code",
   "execution_count": 7,
   "id": "9dd61943",
   "metadata": {
    "scrolled": false
   },
   "outputs": [
    {
     "data": {
      "text/plain": [
       "[array([0.17184463, 0.99486961]),\n",
       " array([0.54344809, 0.81465305]),\n",
       " array([0.28553291, 0.80199865]),\n",
       " array([0.17746122, 0.54017807]),\n",
       " array([0.29258813, 0.46454579]),\n",
       " array([0.90943078, 0.36965769]),\n",
       " array([0.8510327, 0.3322373]),\n",
       " array([0.72525609, 0.2259438 ]),\n",
       " array([0.20887092, 0.02929449]),\n",
       " array([0.22039816, 0.0261957 ])]"
      ]
     },
     "execution_count": 7,
     "metadata": {},
     "output_type": "execute_result"
    }
   ],
   "source": [
    "x = np.random.rand(10,2)\n",
    "x = x[np.lexsort([x[:,0],-x[:,1]])]\n",
    "\n",
    "ini = [x]\n",
    "\n",
    "r = BBT(x)\n",
    "inorder(r)"
   ]
  },
  {
   "cell_type": "code",
   "execution_count": 8,
   "id": "8dd9e4c6",
   "metadata": {},
   "outputs": [],
   "source": [
    "def to_segments(x):\n",
    "    mid = len(x) >> 1\n",
    "    ini = x[:mid]\n",
    "    fin = x[mid:]\n",
    "    return ini, fin"
   ]
  },
  {
   "cell_type": "code",
   "execution_count": 9,
   "id": "068d7dcf",
   "metadata": {
    "scrolled": true
   },
   "outputs": [
    {
     "data": {
      "image/png": "[encoded data removed]",
      "text/plain": [
       "<Figure size 640x480 with 1 Axes>"
      ]
     },
     "metadata": {},
     "output_type": "display_data"
    }
   ],
   "source": [
    "x = np.random.rand(10,2)\n",
    "ini, fin = to_segments(x)\n",
    "for i in range(len(ini)):\n",
    "    plt.plot([ini[i,0], fin[i,0]], [ini[i,1], fin[i,1]])\n",
    "    \n",
    "x_ord = x[np.lexsort([x[:,0],-x[:,1]])]\n",
    "for i in x_ord[:,1]:\n",
    "    plt.axhline(i)"
   ]
  },
  {
   "cell_type": "code",
   "execution_count": 30,
   "id": "f6a77c9a",
   "metadata": {},
   "outputs": [],
   "source": [
    "class sweeper:\n",
    "    def __init__(self, x):\n",
    "        self.segs = x\n",
    "        self.intersections = []\n",
    "        \n",
    "        self.ini = []\n",
    "        self.fin = []\n",
    "        x_ord = []\n",
    "        for i in range(len(x)):\n",
    "            arr = x[i].to_array()\n",
    "            x_ord.extend(arr)\n",
    "            self.ini.append([arr[0], self.segs[i]])\n",
    "            self.fin.append([arr[1], self.segs[i]])\n",
    "            #self.ini[tuple(arr[0])] = self.segs[i]\n",
    "            #self.fin[tuple(arr[1])] = self.segs[i]\n",
    "        x_ord = np.array(x_ord)\n",
    "        x_ord = x_ord[np.lexsort([-x_ord[:,0],x_ord[:,1]])]\n",
    "        self.events = x_ord.tolist()\n",
    "        self.tau = None\n",
    "        self.line = None\n",
    "        \n",
    "    def inter(self, view = True):\n",
    "        while len(self.events):\n",
    "            change = True\n",
    "            aux = self.line\n",
    "            self.line = self.events.pop()\n",
    "            self.manipulate_p()\n",
    "            if view == True:\n",
    "                if aux:\n",
    "                    if aux[1] == self.line[1]:\n",
    "                        change = False\n",
    "                self.plot(change)\n",
    "                \n",
    "    def manipulate_p(self):\n",
    "        epsilon = (max([p[0][1] for p in self.ini]) - min([p[0][1] for p in self.fin]))/10000000\n",
    "        \n",
    "        #U_p = [[p[1].middle(self.line[1]+epsilon),p[1]] for p in self.ini if p[0] == self.line]\n",
    "        U_p = [p for p in self.ini if p[0] == self.line]\n",
    "        L_p = [p for p in self.fin if p[0] == self.line]\n",
    "        #C_p = [[p[1].middle(self.line[1]+epsilon), p[1]] for p in inorder(self.tau) if p[1].middle(self.line[1]) == self.line]\n",
    "        C_p = [p for p in inorder(self.tau) if p[1].middle(self.line[1]) == self.line]\n",
    "        #{tuple(self.line): seg for (p,seg) in inorder(self.tau) if seg.middle(self.line[1]) == self.line}\n",
    "        if len(U_p)+len(L_p)+len(C_p) > 1:\n",
    "            self.intersections.append([self.line, U_p, L_p, C_p])\n",
    "\n",
    "        #current_segs = [x[1] for x in inorder(self.tau)]\n",
    "        temp = U_p\n",
    "        temp.extend(C_p)\n",
    "        temp.extend([p for p in inorder(self.tau) if (p not in U_p)])\n",
    "        temp = sorted(temp, key=lambda pair: (-pair[0][1], pair[0][0]))\n",
    "        self.tau = BBT(temp)\n",
    "        \n",
    "        print(len(U_p)+len(C_p))\n",
    "        print(U_p)\n",
    "        print(C_p)\n",
    "        print(self.line)\n",
    "        if len(U_p)+len(C_p) == 0:\n",
    "            print('hai')\n",
    "            #self.find_event()\n",
    "    \n",
    "    def plot(self, change=True):\n",
    "        for p, seg in self.ini:\n",
    "            plt.plot([seg.p1.x, seg.p2.x], [seg.p1.y, seg.p2.y])\n",
    "        if self.line and change:\n",
    "            plt.axhline(self.line[1])\n",
    "\n",
    "        "
   ]
  },
  {
   "cell_type": "code",
   "execution_count": 31,
   "id": "39ed38a1",
   "metadata": {
    "scrolled": true
   },
   "outputs": [
    {
     "name": "stdout",
     "output_type": "stream",
     "text": [
      "1\n",
      "[[[0.5172443420288164, 0.852697024353007], (0.5172443420288164,0.852697024353007) -> (0.3330832737807964,0.5603084238820659)]]\n",
      "[]\n",
      "[0.5172443420288164, 0.852697024353007]\n",
      "2\n",
      "[[[0.7075198110323716, 0.8331831560306397], (0.7075198110323716,0.8331831560306397) -> (0.48825388392148794,0.42932494778438557)], [[0.5172443420288164, 0.852697024353007], (0.5172443420288164,0.852697024353007) -> (0.3330832737807964,0.5603084238820659)]]\n",
      "[]\n",
      "[0.7075198110323716, 0.8331831560306397]\n",
      "2\n",
      "[[[0.5172443420288164, 0.852697024353007], (0.5172443420288164,0.852697024353007) -> (0.3330832737807964,0.5603084238820659)], [[0.7075198110323716, 0.8331831560306397], (0.7075198110323716,0.8331831560306397) -> (0.48825388392148794,0.42932494778438557)]]\n",
      "[]\n",
      "[0.04681003236920034, 0.7851561424372079]\n",
      "2\n",
      "[[[0.5172443420288164, 0.852697024353007], (0.5172443420288164,0.852697024353007) -> (0.3330832737807964,0.5603084238820659)], [[0.7075198110323716, 0.8331831560306397], (0.7075198110323716,0.8331831560306397) -> (0.48825388392148794,0.42932494778438557)]]\n",
      "[]\n",
      "[0.8260058195077331, 0.779841137757501]\n",
      "3\n",
      "[[[0.833394921934656, 0.5836657042177502], (0.833394921934656,0.5836657042177502) -> (0.8260058195077331,0.779841137757501)], [[0.5172443420288164, 0.852697024353007], (0.5172443420288164,0.852697024353007) -> (0.3330832737807964,0.5603084238820659)], [[0.7075198110323716, 0.8331831560306397], (0.7075198110323716,0.8331831560306397) -> (0.48825388392148794,0.42932494778438557)]]\n",
      "[]\n",
      "[0.833394921934656, 0.5836657042177502]\n",
      "4\n",
      "[[[0.5172443420288164, 0.852697024353007], (0.5172443420288164,0.852697024353007) -> (0.3330832737807964,0.5603084238820659)], [[0.7075198110323716, 0.8331831560306397], (0.7075198110323716,0.8331831560306397) -> (0.48825388392148794,0.42932494778438557)], [[0.833394921934656, 0.5836657042177502], (0.833394921934656,0.5836657042177502) -> (0.8260058195077331,0.779841137757501)]]\n",
      "[[[0.5172443420288164, 0.852697024353007], (0.5172443420288164,0.852697024353007) -> (0.3330832737807964,0.5603084238820659)]]\n",
      "[0.3330832737807964, 0.5603084238820659]\n",
      "4\n",
      "[[[0.7075198110323716, 0.8331831560306397], (0.7075198110323716,0.8331831560306397) -> (0.48825388392148794,0.42932494778438557)], [[0.5172443420288164, 0.852697024353007], (0.5172443420288164,0.852697024353007) -> (0.3330832737807964,0.5603084238820659)], [[0.833394921934656, 0.5836657042177502], (0.833394921934656,0.5836657042177502) -> (0.8260058195077331,0.779841137757501)]]\n",
      "[[[0.7075198110323716, 0.8331831560306397], (0.7075198110323716,0.8331831560306397) -> (0.48825388392148794,0.42932494778438557)]]\n",
      "[0.48825388392148794, 0.42932494778438557]\n",
      "4\n",
      "[[[0.2810317096972207, 0.3445957032946808], (0.2810317096972207,0.3445957032946808) -> (0.04886308449406629,0.18078189422242275)], [[0.5172443420288164, 0.852697024353007], (0.5172443420288164,0.852697024353007) -> (0.3330832737807964,0.5603084238820659)], [[0.7075198110323716, 0.8331831560306397], (0.7075198110323716,0.8331831560306397) -> (0.48825388392148794,0.42932494778438557)], [[0.833394921934656, 0.5836657042177502], (0.833394921934656,0.5836657042177502) -> (0.8260058195077331,0.779841137757501)]]\n",
      "[]\n",
      "[0.2810317096972207, 0.3445957032946808]\n",
      "5\n",
      "[[[0.09222528002081642, 0.23317805802082792], (0.09222528002081642,0.23317805802082792) -> (0.04681003236920034,0.7851561424372079)], [[0.5172443420288164, 0.852697024353007], (0.5172443420288164,0.852697024353007) -> (0.3330832737807964,0.5603084238820659)], [[0.7075198110323716, 0.8331831560306397], (0.7075198110323716,0.8331831560306397) -> (0.48825388392148794,0.42932494778438557)], [[0.833394921934656, 0.5836657042177502], (0.833394921934656,0.5836657042177502) -> (0.8260058195077331,0.779841137757501)], [[0.2810317096972207, 0.3445957032946808], (0.2810317096972207,0.3445957032946808) -> (0.04886308449406629,0.18078189422242275)]]\n",
      "[]\n",
      "[0.09222528002081642, 0.23317805802082792]\n",
      "6\n",
      "[[[0.2810317096972207, 0.3445957032946808], (0.2810317096972207,0.3445957032946808) -> (0.04886308449406629,0.18078189422242275)], [[0.5172443420288164, 0.852697024353007], (0.5172443420288164,0.852697024353007) -> (0.3330832737807964,0.5603084238820659)], [[0.7075198110323716, 0.8331831560306397], (0.7075198110323716,0.8331831560306397) -> (0.48825388392148794,0.42932494778438557)], [[0.833394921934656, 0.5836657042177502], (0.833394921934656,0.5836657042177502) -> (0.8260058195077331,0.779841137757501)], [[0.09222528002081642, 0.23317805802082792], (0.09222528002081642,0.23317805802082792) -> (0.04681003236920034,0.7851561424372079)]]\n",
      "[[[0.2810317096972207, 0.3445957032946808], (0.2810317096972207,0.3445957032946808) -> (0.04886308449406629,0.18078189422242275)]]\n",
      "[0.04886308449406629, 0.18078189422242275]\n"
     ]
    },
    {
     "data": {
      "image/png": "[encoded data removed]",
      "text/plain": [
       "<Figure size 640x480 with 1 Axes>"
      ]
     },
     "metadata": {},
     "output_type": "display_data"
    }
   ],
   "source": [
    "x = np.random.rand(10,2)\n",
    "ini, fin = to_segments(x)\n",
    "segmentos = []\n",
    "for i in range(len(ini)):\n",
    "    segmentos.append(segment(ini[i][0], ini[i][1], fin[i][0], fin[i][1]))\n",
    "linea = sweeper(segmentos)\n",
    "linea.inter()\n",
    "#linea = sweeper(x)\n",
    "#linea.sweep()\n",
    "#linea.plot()"
   ]
  },
  {
   "cell_type": "code",
   "execution_count": null,
   "id": "bc2a5873",
   "metadata": {},
   "outputs": [],
   "source": []
  }
 ],
 "metadata": {
  "kernelspec": {
   "display_name": "Python 3 (ipykernel)",
   "language": "python",
   "name": "python3"
  },
  "language_info": {
   "codemirror_mode": {
    "name": "ipython",
    "version": 3
   },
   "file_extension": ".py",
   "mimetype": "text/x-python",
   "name": "python",
   "nbconvert_exporter": "python",
   "pygments_lexer": "ipython3",
   "version": "3.11.0"
  }
 },
 "nbformat": 4,
 "nbformat_minor": 5
}
