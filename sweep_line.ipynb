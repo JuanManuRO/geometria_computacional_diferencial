{
 "cells": [
  {
   "cell_type": "code",
   "execution_count": 78,
   "id": "8fff31dd",
   "metadata": {},
   "outputs": [],
   "source": [
    "import numpy as np\n",
    "import matplotlib.pyplot as plt\n",
    "import time"
   ]
  },
  {
   "cell_type": "code",
   "execution_count": 79,
   "id": "e126bb44",
   "metadata": {},
   "outputs": [],
   "source": [
    "class point:\n",
    "    def __init__(self,x,y):\n",
    "        self.x = x\n",
    "        self.y = y\n",
    "    \n",
    "    def __repr__(self):\n",
    "        return f'({self.x},{self.y})'\n",
    "    \n",
    "    def __lt__(self, other):\n",
    "        if self.y > other.y:\n",
    "            return True\n",
    "        elif self.y == other.y and self.x < other.x:\n",
    "            return True\n",
    "        else:\n",
    "            return False\n",
    "        \n",
    "    def __eq__(self, other):\n",
    "        return (self.x == other.x) & (self.y == other.y)\n",
    "        \n",
    "    \n",
    "class segment:\n",
    "    def __init__(self, x1, y1, x2, y2):\n",
    "        self.p1 = point(x1,y1)\n",
    "        self.p2 = point(x2,y2)\n",
    "        self.order()\n",
    "    \n",
    "    def __repr__(self):\n",
    "        return f'{self.p1} -> {self.p2}'\n",
    "    \n",
    "    def order(self):\n",
    "        if self.p2 < self.p1:\n",
    "            aux = self.p1\n",
    "            self.p1 = self.p2\n",
    "            self.p2 = aux\n",
    "    \n",
    "    def to_array(self):\n",
    "        return [[self.p1.x,self.p1.y], [self.p2.x,self.p2.y]]\n",
    "    \n",
    "    def middle(self, y_new):\n",
    "        alpha = (y_new - self.p2.y)/(self.p1.y - self.p2.y)\n",
    "        x_new = alpha*self.p1.x+(1-alpha)*self.p2.x\n",
    "        return (x_new, y_new)\n",
    "    \n",
    "    def __lt__(self, other):\n",
    "        if isinstance(other, point):\n",
    "            return middle(other.y) < other\n",
    "            \n",
    "        "
   ]
  },
  {
   "cell_type": "code",
   "execution_count": 86,
   "id": "02f62b28",
   "metadata": {},
   "outputs": [],
   "source": [
    "class Node:\n",
    "    def __init__(self, val, lc = None, rc = None, y = None, parent = None):\n",
    "        self.val = val\n",
    "        self.lc = lc\n",
    "        self.rc = rc\n",
    "        self.parent = parent\n",
    "        if isinstance(self.val, segment):\n",
    "            self.seg = val\n",
    "            self.val = val.middle(y)\n",
    "            \n",
    "        \n",
    "def insert(root, new , y = None):\n",
    "    if isinstance(new, segment):\n",
    "        test = new.middle(y)\n",
    "        if root is None:\n",
    "            return Node(new, y = y)\n",
    "        elif test < root.val:\n",
    "            root.lc = insert(root.lc, new, y, parent = root)\n",
    "        else:\n",
    "            root.rc = insert(root.rc, new, y, parent = root)\n",
    "    else:\n",
    "        if root is None:\n",
    "            return Node(new)\n",
    "        elif new < root.val:\n",
    "            root.lc = insert(root.lc, new, parent = root)\n",
    "        else:\n",
    "            root.rc = insert(root.rc, new, parent = root)\n",
    "        return root\n",
    "\n",
    "def delete(root, ded): #Modificar, si borrar desde padre o identificar direccion desde hijo\n",
    "    if root != None:\n",
    "        if hasattr(root, 'seg'):\n",
    "            if ded == root.seg:\n",
    "                if root.rc != None:\n",
    "                    new_seg, new_val = find_smallest_seg(root.rc)\n",
    "                    delete(root, new_seg)\n",
    "                    root.seg = new_seg\n",
    "                    root.val = new_val\n",
    "                elif root.lc != None:\n",
    "                    new_seg = root.lc.seg\n",
    "                    new_val = root.lc.val\n",
    "                    root.rc = root.lc.rc\n",
    "                    root.lc = root.lc.lc\n",
    "                else:\n",
    "                    left = False\n",
    "                    right = False\n",
    "                    if root.parent.lc.seg = root.seg:\n",
    "                        left = True\n",
    "                    elif root.parent.rc.seg = root.seg:\n",
    "                        right = True\n",
    "                    root.val = None\n",
    "                    root.seg = None\n",
    "            else:\n",
    "                delete(root.lc, ded)\n",
    "                delete(root.rc, ded)\n",
    "\n",
    "def update(root, y):\n",
    "    root.val = root.seg.middle(y)\n",
    "            \n",
    "def find_smallest_seg(root):\n",
    "    if root.lc == None:\n",
    "        return root.seg, root.val\n",
    "    else:\n",
    "        return find_smallest(root.lc)\n",
    "        \n",
    "\n",
    "def inorder(root):\n",
    "    result = [] \n",
    "    if root:\n",
    "        result.extend(inorder(root.lc))\n",
    "        if hasattr(root, 'seg'):\n",
    "            result.append([root.val, root.seg])\n",
    "        else:\n",
    "            result.append(root.val)\n",
    "        result.extend(inorder(root.rc))\n",
    "    return result\n",
    "\n",
    "def preorder(root):\n",
    "    result = [] \n",
    "    if root:\n",
    "        result.append((root.val))\n",
    "        result.extend(inorder(root.lc))\n",
    "        result.extend(inorder(root.rc))\n",
    "    return result\n",
    "\n",
    "def depth(root):\n",
    "    if root is None:\n",
    "        return 0\n",
    "    return max(depth(root.lc), depth(root.rc)) + 1\n",
    "\n",
    "def is_balanced(root):\n",
    "    if root is None:\n",
    "        return True\n",
    "    left = depth(root.lc)\n",
    "    right = depth(root.rc)\n",
    "    if abs(left - right) < 2 and is_balanced(root.lc) and is_balanced(root.rc):\n",
    "        return True\n",
    "    return False\n",
    "\n",
    "def BBT(x):\n",
    "    if len(x) == 0:\n",
    "        return None\n",
    "    mid = len(x) >> 1\n",
    "    newRoot = Node(x[mid])\n",
    "    newRoot.lc = BBT(x[:mid])\n",
    "    newRoot.rc = BBT(x[mid+1:])\n",
    "    return newRoot\n",
    "\n",
    "# def less_line(p0, p1):\n",
    "#     if p0.y > p1.y:\n",
    "#         return True\n",
    "#     elif p0.y == p1.y and p0.x < p1.x:\n",
    "#         return True\n",
    "#     else:\n",
    "#         return False\n"
   ]
  },
  {
   "cell_type": "code",
   "execution_count": 81,
   "id": "9dd61943",
   "metadata": {
    "scrolled": false
   },
   "outputs": [
    {
     "data": {
      "text/plain": [
       "[array([0.36800637, 0.99660951]),\n",
       " array([0.46455503, 0.73490277]),\n",
       " array([0.13612688, 0.62658165]),\n",
       " array([0.74067024, 0.58621438]),\n",
       " array([0.52578967, 0.42366546]),\n",
       " array([0.2961615, 0.4157112]),\n",
       " array([0.93448017, 0.27817036]),\n",
       " array([0.59714887, 0.20788598]),\n",
       " array([0.92222472, 0.19083625]),\n",
       " array([0.32218367, 0.09510888])]"
      ]
     },
     "execution_count": 81,
     "metadata": {},
     "output_type": "execute_result"
    }
   ],
   "source": [
    "x = np.random.rand(10,2)\n",
    "x = x[np.lexsort([x[:,0],-x[:,1]])]\n",
    "\n",
    "ini = [x]\n",
    "\n",
    "r = BBT(x)\n",
    "inorder(r)"
   ]
  },
  {
   "cell_type": "code",
   "execution_count": 82,
   "id": "8dd9e4c6",
   "metadata": {},
   "outputs": [],
   "source": [
    "def to_segments(x):\n",
    "    mid = len(x) >> 1\n",
    "    ini = x[:mid]\n",
    "    fin = x[mid:]\n",
    "    return ini, fin"
   ]
  },
  {
   "cell_type": "code",
   "execution_count": 83,
   "id": "068d7dcf",
   "metadata": {
    "scrolled": false
   },
   "outputs": [
    {
     "data": {
      "image/png": "[encoded data removed]",
      "text/plain": [
       "<Figure size 640x480 with 1 Axes>"
      ]
     },
     "metadata": {},
     "output_type": "display_data"
    }
   ],
   "source": [
    "x = np.random.rand(10,2)\n",
    "ini, fin = to_segments(x)\n",
    "for i in range(len(ini)):\n",
    "    plt.plot([ini[i,0], fin[i,0]], [ini[i,1], fin[i,1]])\n",
    "    \n",
    "x_ord = x[np.lexsort([x[:,0],-x[:,1]])]\n",
    "for i in x_ord[:,1]:\n",
    "    plt.axhline(i)"
   ]
  },
  {
   "cell_type": "code",
   "execution_count": 84,
   "id": "f6a77c9a",
   "metadata": {
    "scrolled": true
   },
   "outputs": [],
   "source": [
    "class sweeper:\n",
    "    def __init__(self, x):\n",
    "        self.segs = x\n",
    "        self.intersections = []\n",
    "        \n",
    "        self.ini = []\n",
    "        self.fin = []\n",
    "        x_ord = []\n",
    "        for i in range(len(x)):\n",
    "            arr = x[i].to_array()\n",
    "            x_ord.extend(arr)\n",
    "            self.ini.append([arr[0], self.segs[i]])\n",
    "            self.fin.append([arr[1], self.segs[i]])\n",
    "        x_ord = np.array(x_ord)\n",
    "        x_ord = x_ord[np.lexsort([-x_ord[:,0],x_ord[:,1]])]\n",
    "        self.events = x_ord.tolist()\n",
    "        self.tau = None\n",
    "        self.line = None\n",
    "        \n",
    "    def findInter(self, view = True):\n",
    "        while len(self.events):\n",
    "            change = True\n",
    "            aux = self.line\n",
    "            self.line = self.events.pop()\n",
    "            self.manipulate_p()\n",
    "            if view == True:\n",
    "                if aux:\n",
    "                    if aux[1] == self.line[1]:\n",
    "                        change = False\n",
    "                self.plot(change)\n",
    "                \n",
    "    def manipulate_p(self):\n",
    "        #epsilon = (max([p[0][1] for p in self.ini]) - min([p[0][1] for p in self.fin]))/10000000 #Necesito modificar esto\n",
    "        #U_p = [[p[1].middle(self.line[1]+epsilon),p[1]] for p in self.ini if p[0] == self.line]\n",
    "        U_p = [p for p in self.ini if p[0] == self.line]\n",
    "        L_p = [p for p in self.fin if p[0] == self.line]\n",
    "        #C_p = [[p[1].middle(self.line[1]+epsilon), p[1]] for p in inorder(self.tau) if p[1].middle(self.line[1]) == self.line]\n",
    "        print(inorder(self.tau))\n",
    "        C_p = [p for p in inorder(self.tau) if p[1].middle(self.line[1]) == self.line]\n",
    "        \n",
    "        #{tuple(self.line): seg for (p,seg) in inorder(self.tau) if seg.middle(self.line[1]) == self.line}\n",
    "        if len(U_p)+len(L_p)+len(C_p) > 1:\n",
    "            self.intersections.append([self.line, U_p, L_p, C_p])\n",
    "\n",
    "        \n",
    "        for p in L_p:\n",
    "            if len(inorder(self.tau)) == 1:\n",
    "                tau = None\n",
    "            else:\n",
    "                delete(self.tau, p[1])\n",
    "        for p in C_p:\n",
    "            delete(self.tau, p[1])\n",
    "        for p in U_p:\n",
    "            if self.tau == None:\n",
    "                self.tau = Node(p[1], y=self.line[1])\n",
    "            else:\n",
    "                insert(self.tau, p[1], y=self.line[1])\n",
    "        for p in C_p:\n",
    "            insert(self.tau, p[1], y=self.line[1])\n",
    "        #current_segs = [x[1] for x in inorder(self.tau)]\n",
    "#         temp = U_p\n",
    "#         temp.extend(C_p)\n",
    "#         temp.extend([p for p in inorder(self.tau) if (p not in U_p)])\n",
    "#         temp = sorted(temp, key=lambda pair: (-pair[0][1], pair[0][0]))\n",
    "#         self.tau = BBT(temp)\n",
    "        \n",
    "        #print(len(U_p)+len(C_p))\n",
    "        #print(U_p)\n",
    "        #print(C_p)\n",
    "        #print(self.line)\n",
    "        if len(U_p)+len(C_p) == 0:\n",
    "            print('hai')\n",
    "            #self.find_event()\n",
    "    \n",
    "    def plot(self, change=True):\n",
    "        for p, seg in self.ini:\n",
    "            plt.plot([seg.p1.x, seg.p2.x], [seg.p1.y, seg.p2.y])\n",
    "        if self.line and change:\n",
    "            plt.axhline(self.line[1])\n",
    "\n",
    "        "
   ]
  },
  {
   "cell_type": "code",
   "execution_count": 85,
   "id": "39ed38a1",
   "metadata": {
    "scrolled": true
   },
   "outputs": [
    {
     "name": "stdout",
     "output_type": "stream",
     "text": [
      "[]\n",
      "[[(0.5717856763640049, 0.809372370442642), (0.5717856763640049,0.809372370442642) -> (0.6604209697559664,0.6540938241339341)]]\n",
      "[[(0.5717856763640049, 0.809372370442642), (0.5717856763640049,0.809372370442642) -> (0.6604209697559664,0.6540938241339341)], [(0.8359693267854913, 0.7154464190400565), (0.8359693267854913,0.7154464190400565) -> (0.5831820207649616,0.10111180158516753)]]\n",
      "[[(0.30520117224841414, 0.6579354477919988), (0.30520117224841414,0.6579354477919988) -> (0.2529450251286486,0.49276949421860194)], [(0.5717856763640049, 0.809372370442642), (0.5717856763640049,0.809372370442642) -> (0.6604209697559664,0.6540938241339341)], [(0.8359693267854913, 0.7154464190400565), (0.8359693267854913,0.7154464190400565) -> (0.5831820207649616,0.10111180158516753)]]\n",
      "hai\n",
      "[[(0.30520117224841414, 0.6579354477919988), (0.30520117224841414,0.6579354477919988) -> (0.2529450251286486,0.49276949421860194)], [(0.8359693267854913, 0.7154464190400565), (0.8359693267854913,0.7154464190400565) -> (0.5831820207649616,0.10111180158516753)], [None, None]]\n"
     ]
    },
    {
     "ename": "AttributeError",
     "evalue": "'NoneType' object has no attribute 'middle'",
     "output_type": "error",
     "traceback": [
      "\u001b[1;31m---------------------------------------------------------------------------\u001b[0m",
      "\u001b[1;31mAttributeError\u001b[0m                            Traceback (most recent call last)",
      "Cell \u001b[1;32mIn[85], line 7\u001b[0m\n\u001b[0;32m      5\u001b[0m     segmentos\u001b[38;5;241m.\u001b[39mappend(segment(ini[i][\u001b[38;5;241m0\u001b[39m], ini[i][\u001b[38;5;241m1\u001b[39m], fin[i][\u001b[38;5;241m0\u001b[39m], fin[i][\u001b[38;5;241m1\u001b[39m]))\n\u001b[0;32m      6\u001b[0m linea \u001b[38;5;241m=\u001b[39m sweeper(segmentos)\n\u001b[1;32m----> 7\u001b[0m \u001b[43mlinea\u001b[49m\u001b[38;5;241;43m.\u001b[39;49m\u001b[43mfindInter\u001b[49m\u001b[43m(\u001b[49m\u001b[43m)\u001b[49m\n",
      "Cell \u001b[1;32mIn[84], line 25\u001b[0m, in \u001b[0;36msweeper.findInter\u001b[1;34m(self, view)\u001b[0m\n\u001b[0;32m     23\u001b[0m aux \u001b[38;5;241m=\u001b[39m \u001b[38;5;28mself\u001b[39m\u001b[38;5;241m.\u001b[39mline\n\u001b[0;32m     24\u001b[0m \u001b[38;5;28mself\u001b[39m\u001b[38;5;241m.\u001b[39mline \u001b[38;5;241m=\u001b[39m \u001b[38;5;28mself\u001b[39m\u001b[38;5;241m.\u001b[39mevents\u001b[38;5;241m.\u001b[39mpop()\n\u001b[1;32m---> 25\u001b[0m \u001b[38;5;28;43mself\u001b[39;49m\u001b[38;5;241;43m.\u001b[39;49m\u001b[43mmanipulate_p\u001b[49m\u001b[43m(\u001b[49m\u001b[43m)\u001b[49m\n\u001b[0;32m     26\u001b[0m \u001b[38;5;28;01mif\u001b[39;00m view \u001b[38;5;241m==\u001b[39m \u001b[38;5;28;01mTrue\u001b[39;00m:\n\u001b[0;32m     27\u001b[0m     \u001b[38;5;28;01mif\u001b[39;00m aux:\n",
      "Cell \u001b[1;32mIn[84], line 39\u001b[0m, in \u001b[0;36msweeper.manipulate_p\u001b[1;34m(self)\u001b[0m\n\u001b[0;32m     37\u001b[0m \u001b[38;5;66;03m#C_p = [[p[1].middle(self.line[1]+epsilon), p[1]] for p in inorder(self.tau) if p[1].middle(self.line[1]) == self.line]\u001b[39;00m\n\u001b[0;32m     38\u001b[0m \u001b[38;5;28mprint\u001b[39m(inorder(\u001b[38;5;28mself\u001b[39m\u001b[38;5;241m.\u001b[39mtau))\n\u001b[1;32m---> 39\u001b[0m C_p \u001b[38;5;241m=\u001b[39m [p \u001b[38;5;28;01mfor\u001b[39;00m p \u001b[38;5;129;01min\u001b[39;00m inorder(\u001b[38;5;28mself\u001b[39m\u001b[38;5;241m.\u001b[39mtau) \u001b[38;5;28;01mif\u001b[39;00m p[\u001b[38;5;241m1\u001b[39m]\u001b[38;5;241m.\u001b[39mmiddle(\u001b[38;5;28mself\u001b[39m\u001b[38;5;241m.\u001b[39mline[\u001b[38;5;241m1\u001b[39m]) \u001b[38;5;241m==\u001b[39m \u001b[38;5;28mself\u001b[39m\u001b[38;5;241m.\u001b[39mline]\n\u001b[0;32m     41\u001b[0m \u001b[38;5;66;03m#{tuple(self.line): seg for (p,seg) in inorder(self.tau) if seg.middle(self.line[1]) == self.line}\u001b[39;00m\n\u001b[0;32m     42\u001b[0m \u001b[38;5;28;01mif\u001b[39;00m \u001b[38;5;28mlen\u001b[39m(U_p)\u001b[38;5;241m+\u001b[39m\u001b[38;5;28mlen\u001b[39m(L_p)\u001b[38;5;241m+\u001b[39m\u001b[38;5;28mlen\u001b[39m(C_p) \u001b[38;5;241m>\u001b[39m \u001b[38;5;241m1\u001b[39m:\n",
      "Cell \u001b[1;32mIn[84], line 39\u001b[0m, in \u001b[0;36m<listcomp>\u001b[1;34m(.0)\u001b[0m\n\u001b[0;32m     37\u001b[0m \u001b[38;5;66;03m#C_p = [[p[1].middle(self.line[1]+epsilon), p[1]] for p in inorder(self.tau) if p[1].middle(self.line[1]) == self.line]\u001b[39;00m\n\u001b[0;32m     38\u001b[0m \u001b[38;5;28mprint\u001b[39m(inorder(\u001b[38;5;28mself\u001b[39m\u001b[38;5;241m.\u001b[39mtau))\n\u001b[1;32m---> 39\u001b[0m C_p \u001b[38;5;241m=\u001b[39m [p \u001b[38;5;28;01mfor\u001b[39;00m p \u001b[38;5;129;01min\u001b[39;00m inorder(\u001b[38;5;28mself\u001b[39m\u001b[38;5;241m.\u001b[39mtau) \u001b[38;5;28;01mif\u001b[39;00m \u001b[43mp\u001b[49m\u001b[43m[\u001b[49m\u001b[38;5;241;43m1\u001b[39;49m\u001b[43m]\u001b[49m\u001b[38;5;241;43m.\u001b[39;49m\u001b[43mmiddle\u001b[49m(\u001b[38;5;28mself\u001b[39m\u001b[38;5;241m.\u001b[39mline[\u001b[38;5;241m1\u001b[39m]) \u001b[38;5;241m==\u001b[39m \u001b[38;5;28mself\u001b[39m\u001b[38;5;241m.\u001b[39mline]\n\u001b[0;32m     41\u001b[0m \u001b[38;5;66;03m#{tuple(self.line): seg for (p,seg) in inorder(self.tau) if seg.middle(self.line[1]) == self.line}\u001b[39;00m\n\u001b[0;32m     42\u001b[0m \u001b[38;5;28;01mif\u001b[39;00m \u001b[38;5;28mlen\u001b[39m(U_p)\u001b[38;5;241m+\u001b[39m\u001b[38;5;28mlen\u001b[39m(L_p)\u001b[38;5;241m+\u001b[39m\u001b[38;5;28mlen\u001b[39m(C_p) \u001b[38;5;241m>\u001b[39m \u001b[38;5;241m1\u001b[39m:\n",
      "\u001b[1;31mAttributeError\u001b[0m: 'NoneType' object has no attribute 'middle'"
     ]
    },
    {
     "data": {
      "image/png": "[encoded data removed]",
      "text/plain": [
       "<Figure size 640x480 with 1 Axes>"
      ]
     },
     "metadata": {},
     "output_type": "display_data"
    }
   ],
   "source": [
    "x = np.random.rand(10,2)\n",
    "ini, fin = to_segments(x)\n",
    "segmentos = []\n",
    "for i in range(len(ini)):\n",
    "    segmentos.append(segment(ini[i][0], ini[i][1], fin[i][0], fin[i][1]))\n",
    "linea = sweeper(segmentos)\n",
    "linea.findInter()\n",
    "#linea = sweeper(x)\n",
    "#linea.sweep()\n",
    "#linea.plot()"
   ]
  },
  {
   "cell_type": "code",
   "execution_count": 15,
   "id": "bc2a5873",
   "metadata": {},
   "outputs": [
    {
     "data": {
      "text/plain": [
       "2"
      ]
     },
     "execution_count": 15,
     "metadata": {},
     "output_type": "execute_result"
    }
   ],
   "source": []
  },
  {
   "cell_type": "markdown",
   "id": "5c429bb8",
   "metadata": {},
   "source": [
    "https://bobbyhadz.com/blog/python-check-if-object-has-method#:~:text=This%20is%20a%20three-step%20process%3A%201%20Use%20the,are%20met%2C%20the%20object%20has%20the%20specified%20method."
   ]
  },
  {
   "cell_type": "code",
   "execution_count": null,
   "id": "2c49a3a7",
   "metadata": {},
   "outputs": [],
   "source": []
  }
 ],
 "metadata": {
  "kernelspec": {
   "display_name": "Python 3 (ipykernel)",
   "language": "python",
   "name": "python3"
  },
  "language_info": {
   "codemirror_mode": {
    "name": "ipython",
    "version": 3
   },
   "file_extension": ".py",
   "mimetype": "text/x-python",
   "name": "python",
   "nbconvert_exporter": "python",
   "pygments_lexer": "ipython3",
   "version": "3.10.9"
  }
 },
 "nbformat": 4,
 "nbformat_minor": 5
}
