{
 "cells": [
  {
   "cell_type": "code",
   "execution_count": 17,
   "id": "473c6ee2",
   "metadata": {},
   "outputs": [],
   "source": [
    "import numpy as np"
   ]
  },
  {
   "cell_type": "code",
   "execution_count": 94,
   "id": "4b08223f",
   "metadata": {
    "scrolled": true
   },
   "outputs": [],
   "source": [
    "class Node:\n",
    "    def __init__(self, val, lc = None, rc = None):\n",
    "        self.val = val\n",
    "        self.lc = lc\n",
    "        self.rc = rc\n",
    "        \n",
    "def insert(root, new):\n",
    "    if root is None:\n",
    "        return Node(new)\n",
    "    elif new < root.val:\n",
    "        root.lc = insert(root.lc, new)\n",
    "    else:\n",
    "        root.rc = insert(root.rc, new)\n",
    "    return root\n",
    "\n",
    "def inorder(root):\n",
    "    result = [] \n",
    "    if root:\n",
    "        result.extend(inorder(root.lc))\n",
    "        result.append((root.val))\n",
    "        result.extend(inorder(root.rc))\n",
    "    return result\n",
    "\n",
    "def preorder(root):\n",
    "    result = [] \n",
    "    if root:\n",
    "        result.append((root.val))\n",
    "        result.extend(inorder(root.lc))\n",
    "        result.extend(inorder(root.rc))\n",
    "    return result\n",
    "\n",
    "def depth(root):\n",
    "    if root is None:\n",
    "        return 0\n",
    "    return max(depth(root.lc), depth(root.rc)) + 1\n",
    "\n",
    "def is_balanced(root):\n",
    "    if root is None:\n",
    "        return True\n",
    "    left = depth(root.lc)\n",
    "    right = depth(root.rc)\n",
    "    if abs(left - right) < 2 and is_balanced(root.lc) and is_balanced(root.rc):\n",
    "        return True\n",
    "    return False\n"
   ]
  },
  {
   "cell_type": "code",
   "execution_count": 95,
   "id": "464e75c6",
   "metadata": {},
   "outputs": [
    {
     "name": "stdout",
     "output_type": "stream",
     "text": [
      "[0.7378161  0.86804856 0.84066105 0.67051459 0.6703548  0.31246403\n",
      " 0.14386162 0.2664565  0.70481964 0.35485309]\n",
      "[0.14386161624817295, 0.2664565032075006, 0.3124640279649227, 0.35485309024744793, 0.6703547951922779, 0.6705145901600471, 0.7048196372292368, 0.7378160983981503, 0.8406610476300784, 0.8680485570901482]\n",
      "[0.7378160983981503, 0.14386161624817295, 0.2664565032075006, 0.3124640279649227, 0.35485309024744793, 0.6703547951922779, 0.6705145901600471, 0.7048196372292368, 0.8406610476300784, 0.8680485570901482]\n",
      "False\n"
     ]
    }
   ],
   "source": [
    "x = np.random.rand(10)\n",
    "print(x)\n",
    "\n",
    "root = None\n",
    "for num in x:\n",
    "    root = insert(root,num)\n",
    "\n",
    "print(inorder(root))\n",
    "print(preorder(root))\n",
    "\n",
    "print(is_balanced(root))"
   ]
  },
  {
   "cell_type": "code",
   "execution_count": 96,
   "id": "75a4a67e",
   "metadata": {},
   "outputs": [],
   "source": [
    "def BBT(x):\n",
    "    if  not x:\n",
    "        return None\n",
    "    mid = len(x) >> 1\n",
    "    newRoot = Node(x[mid])\n",
    "    newRoot.lc = BBT(x[:mid])\n",
    "    newRoot.rc = BBT(x[mid+1:])\n",
    "    \n",
    "    return newRoot"
   ]
  },
  {
   "cell_type": "code",
   "execution_count": 97,
   "id": "1b1ff3a5",
   "metadata": {
    "scrolled": true
   },
   "outputs": [
    {
     "name": "stdout",
     "output_type": "stream",
     "text": [
      "False\n",
      "True\n"
     ]
    }
   ],
   "source": [
    "print(is_balanced(root))\n",
    "balanced = BBT(inorder(root))\n",
    "print(is_balanced(balanced))"
   ]
  },
  {
   "cell_type": "code",
   "execution_count": 115,
   "id": "712e8270",
   "metadata": {},
   "outputs": [],
   "source": [
    "class point:\n",
    "    def __init__(self,x,y):\n",
    "        self.x = x\n",
    "        self.y = y\n",
    "    \n",
    "    def __repr__(self):\n",
    "        return f'({self.x},{self.y})'\n",
    "        \n",
    "def less_line(p0, p1):\n",
    "    if p0.y > p1.y:\n",
    "        return True\n",
    "    elif p0.y == p1.y and p0.x < p1.x:\n",
    "        return True\n",
    "    else:\n",
    "        return False"
   ]
  },
  {
   "cell_type": "code",
   "execution_count": 116,
   "id": "1f00c00a",
   "metadata": {},
   "outputs": [],
   "source": [
    "def insert_line(root, new):\n",
    "    if root is None:\n",
    "        return Node(new)\n",
    "    elif less_line(new, root.val):\n",
    "        root.lc = insert_line(root.lc, new)\n",
    "    else:\n",
    "        root.rc = insert_line(root.rc, new)\n",
    "    return root"
   ]
  },
  {
   "cell_type": "code",
   "execution_count": 117,
   "id": "c27058a9",
   "metadata": {},
   "outputs": [
    {
     "name": "stdout",
     "output_type": "stream",
     "text": [
      "[[0.60494521 0.23248773]\n",
      " [0.78055008 0.22936247]\n",
      " [0.50305355 0.31813027]\n",
      " [0.55871625 0.2411448 ]\n",
      " [0.38377381 0.0612432 ]\n",
      " [0.72747926 0.34780862]\n",
      " [0.09706589 0.11631138]\n",
      " [0.62066772 0.45721646]\n",
      " [0.76856983 0.19302768]\n",
      " [0.96460895 0.49630059]]\n"
     ]
    },
    {
     "data": {
      "text/plain": [
       "[(0.9646089498245998,0.496300591915651),\n",
       " (0.6206677160763705,0.4572164639298587),\n",
       " (0.727479257888692,0.34780861525583406),\n",
       " (0.503053546102578,0.3181302669860544),\n",
       " (0.5587162489239828,0.24114479966231794),\n",
       " (0.604945211729863,0.23248773091859443),\n",
       " (0.7805500847575356,0.22936247074597704),\n",
       " (0.7685698260374384,0.1930276755565612),\n",
       " (0.09706588692901563,0.11631138268761787),\n",
       " (0.38377380581034737,0.061243198558095346)]"
      ]
     },
     "execution_count": 117,
     "metadata": {},
     "output_type": "execute_result"
    }
   ],
   "source": [
    "x = np.random.rand(10,2)\n",
    "print(x)\n",
    "\n",
    "root = None\n",
    "for punto in x:\n",
    "    p = point(punto[0], punto[1])\n",
    "    root = insert_line(root, p)\n",
    "    \n",
    "inorder(root)"
   ]
  },
  {
   "cell_type": "code",
   "execution_count": null,
   "id": "cefcf353",
   "metadata": {},
   "outputs": [],
   "source": []
  }
 ],
 "metadata": {
  "kernelspec": {
   "display_name": "Python 3 (ipykernel)",
   "language": "python",
   "name": "python3"
  },
  "language_info": {
   "codemirror_mode": {
    "name": "ipython",
    "version": 3
   },
   "file_extension": ".py",
   "mimetype": "text/x-python",
   "name": "python",
   "nbconvert_exporter": "python",
   "pygments_lexer": "ipython3",
   "version": "3.11.0"
  }
 },
 "nbformat": 4,
 "nbformat_minor": 5
}
